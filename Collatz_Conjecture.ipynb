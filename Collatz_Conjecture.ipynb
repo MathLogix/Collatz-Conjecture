{
 "cells": [
  {
   "cell_type": "code",
   "execution_count": 2,
   "id": "c16269bf",
   "metadata": {},
   "outputs": [],
   "source": [
    "import turtle\n",
    "\n",
    "def collatz_sequence(n):\n",
    "    steps = []\n",
    "    while n != 1:\n",
    "        steps.append(n)\n",
    "        if n % 2 == 0:\n",
    "            n = n // 2\n",
    "        else:\n",
    "            n = 3 * n + 1\n",
    "    steps.append(1)\n",
    "    return steps\n",
    "\n",
    "def draw_collatz_tree(n, angle, scale):\n",
    "    turtle.speed(0)\n",
    "    turtle.hideturtle()\n",
    "    turtle.penup()\n",
    "    turtle.goto(0, -250)\n",
    "    turtle.pendown()\n",
    "    turtle.left(90)\n",
    "    turtle.tracer(0, 0)\n",
    "\n",
    "    for i in range(1, n + 1):\n",
    "        steps = collatz_sequence(i)\n",
    "        draw_sequence(steps, angle, scale)\n",
    "        turtle.update()\n",
    "\n",
    "def draw_sequence(steps, angle, scale):\n",
    "    for step in steps:\n",
    "        turtle.forward(20 * scale)\n",
    "        if step % 2 == 0:\n",
    "            turtle.right(angle)\n",
    "        else:\n",
    "            turtle.left(angle)\n",
    "    turtle.penup()\n",
    "    turtle.goto(0, -100)\n",
    "    turtle.setheading(180)\n",
    "    turtle.pendown()\n",
    "    turtle.color(\"white\")\n",
    "\n",
    "screen = turtle.Screen()\n",
    "screen.setup(width=1.0, height=1.0)\n",
    "screen.bgcolor(\"black\")\n",
    "\n",
    "# n = int(input(\"Input --> n Numbers to draw: \"))\n",
    "# angle = int(input(\"Angle of inclination: \"))\n",
    "n = 1000\n",
    "angle = 15\n",
    "scale = 0.5\n",
    "\n",
    "draw_collatz_tree(n, angle, scale)\n",
    "\n",
    "turtle.done()"
   ]
  },
  {
   "cell_type": "code",
   "execution_count": null,
   "id": "ea832d3b",
   "metadata": {},
   "outputs": [],
   "source": []
  }
 ],
 "metadata": {
  "kernelspec": {
   "display_name": "Python 3 (ipykernel)",
   "language": "python",
   "name": "python3"
  },
  "language_info": {
   "codemirror_mode": {
    "name": "ipython",
    "version": 3
   },
   "file_extension": ".py",
   "mimetype": "text/x-python",
   "name": "python",
   "nbconvert_exporter": "python",
   "pygments_lexer": "ipython3",
   "version": "3.9.18"
  }
 },
 "nbformat": 4,
 "nbformat_minor": 5
}
